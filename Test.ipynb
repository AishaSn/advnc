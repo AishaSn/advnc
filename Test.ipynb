{
 "cells": [
  {
   "cell_type": "code",
   "execution_count": null,
   "id": "7a01775e-4479-48c2-8bbf-08321e537439",
   "metadata": {},
   "outputs": [],
   "source": [
    "# LIST OF 10 \n",
    "countries = [\n",
    "    \"Canada\",\n",
    "    \"Brazil\",\n",
    "    \"Japan\",\n",
    "    \"Germany\",\n",
    "    \"Australia\",\n",
    "    \"India\",\n",
    "    \"South Africa\",\n",
    "    \"France\",\n",
    "    \"Mexico\",\n",
    "    \"Italy\"\n",
    "]\n",
    "\n",
    "# Print each country in the list\n",
    "print(\"List of Countries:\")\n",
    "for country in countries:\n",
    "    print(country)\n"
   ]
  }
 ],
 "metadata": {
  "kernelspec": {
   "display_name": "Python [conda env:anaconda3]",
   "language": "python",
   "name": "conda-env-anaconda3-py"
  },
  "language_info": {
   "codemirror_mode": {
    "name": "ipython",
    "version": 3
   },
   "file_extension": ".py",
   "mimetype": "text/x-python",
   "name": "python",
   "nbconvert_exporter": "python",
   "pygments_lexer": "ipython3",
   "version": "3.12.7"
  }
 },
 "nbformat": 4,
 "nbformat_minor": 5
}
