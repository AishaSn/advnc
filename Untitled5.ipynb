{
 "cells": [
  {
   "cell_type": "code",
   "execution_count": 33,
   "id": "e7260b04-4575-47ee-af2e-909a4b40d3f5",
   "metadata": {},
   "outputs": [
    {
     "name": "stdin",
     "output_type": "stream",
     "text": [
      "Enter integer #1:  11\n",
      "Enter integer #2:  22\n",
      "Enter integer #3:  33\n",
      "Enter integer #4:  44\n",
      "Enter integer #5:  55\n",
      "Enter integer #6:  66\n",
      "Enter integer #7:  77\n",
      "Enter integer #8:  88\n",
      "Enter integer #9:  99\n",
      "Enter integer #10:  111\n"
     ]
    }
   ],
   "source": [
    "# Take 10 integers from the user and store them in a list\n",
    "numbers = [int(input(f\"Enter integer #{i + 1}: \")) for i in range(10)]"
   ]
  },
  {
   "cell_type": "code",
   "execution_count": 35,
   "id": "e6d373f6-288d-4aa6-b147-8e9b49116df7",
   "metadata": {},
   "outputs": [
    {
     "name": "stdout",
     "output_type": "stream",
     "text": [
      "\n",
      "Odd numbers in the list:\n",
      "11\n",
      "33\n",
      "55\n",
      "77\n",
      "99\n",
      "111\n"
     ]
    }
   ],
   "source": [
    "# a. Print all odd numbers from the list\n",
    "print(\"\\nOdd numbers in the list:\")\n",
    "for num in numbers:\n",
    "    if num % 2 != 0:  # Check if the number is odd\n",
    "        print(num)"
   ]
  },
  {
   "cell_type": "code",
   "execution_count": 37,
   "id": "a4700894-f840-47d2-ad07-42752e0582c2",
   "metadata": {},
   "outputs": [
    {
     "name": "stdout",
     "output_type": "stream",
     "text": [
      "\n",
      "Numbers divisible by 5:\n",
      "55\n"
     ]
    }
   ],
   "source": [
    "# b. Print all numbers divisible by 5 from the list\n",
    "print(\"\\nNumbers divisible by 5:\")\n",
    "for num in numbers:\n",
    "    if num % 5 == 0:  # Check if the number is divisible by 5\n",
    "        print(num)"
   ]
  },
  {
   "cell_type": "code",
   "execution_count": 39,
   "id": "e0f122bc-23d0-4208-8e2e-83e5b1c49320",
   "metadata": {},
   "outputs": [
    {
     "name": "stdout",
     "output_type": "stream",
     "text": [
      "\n",
      "Prime numbers in the list:\n",
      "11\n"
     ]
    }
   ],
   "source": [
    "# c. Print all prime numbers from the list\n",
    "def is_prime(n):\n",
    "    if n <= 1:\n",
    "        return False\n",
    "    for i in range(2, int(n ** 0.5) + 1):\n",
    "        if n % i == 0:\n",
    "            return False\n",
    "    return True\n",
    "\n",
    "print(\"\\nPrime numbers in the list:\")\n",
    "for num in numbers:\n",
    "    if is_prime(num):  # Check if the number is prime\n",
    "        print(num)"
   ]
  },
  {
   "cell_type": "code",
   "execution_count": 43,
   "id": "d6f54e76-71d5-4195-8766-17425955bb7e",
   "metadata": {},
   "outputs": [
    {
     "name": "stdout",
     "output_type": "stream",
     "text": [
      "Dictionary: {'Name': 'Calynn', 'Age': 23, 'Country': 'INDIA', 'Occupation': 'Student', 'Hobbies': ['Reading', 'Eating', 'Sleeping']}\n"
     ]
    }
   ],
   "source": [
    "# Create a dictionary with 5 elements\n",
    "my_dict = {\n",
    "    \"Name\": \"Calynn\",\n",
    "    \"Age\": 23,\n",
    "    \"Country\": \"INDIA\",\n",
    "    \"Occupation\": \"Student\",\n",
    "    \"Hobbies\": [\"Reading\", \"Eating\", \"Sleeping\"]\n",
    "}\n",
    "\n",
    "# Print the dictionary\n",
    "print(\"Dictionary:\", my_dict)\n"
   ]
  },
  {
   "cell_type": "code",
   "execution_count": 45,
   "id": "665b4554-514d-4ddf-b976-bfc84e31d3fa",
   "metadata": {},
   "outputs": [
    {
     "name": "stdout",
     "output_type": "stream",
     "text": [
      "Keys:\n",
      "Name\n",
      "Age\n",
      "Country\n",
      "Occupation\n",
      "Hobbies\n"
     ]
    }
   ],
   "source": [
    "# i. Loop over the dictionary to print keys using a while loop\n",
    "keys = list(my_dict.keys())  # Convert keys to a list to loop through them\n",
    "i = 0\n",
    "print(\"Keys:\")\n",
    "while i < len(keys):\n",
    "    print(keys[i])\n",
    "    i += 1"
   ]
  },
  {
   "cell_type": "code",
   "execution_count": 47,
   "id": "33294d30-619f-4790-9788-348e5952244f",
   "metadata": {},
   "outputs": [
    {
     "name": "stdout",
     "output_type": "stream",
     "text": [
      "\n",
      "Values:\n",
      "Calynn\n",
      "23\n",
      "INDIA\n",
      "Student\n",
      "['Reading', 'Eating', 'Sleeping']\n"
     ]
    }
   ],
   "source": [
    "# ii. Loop over the dictionary to print values using a while loop\n",
    "values = list(my_dict.values())  # Convert values to a list to loop through them\n",
    "i = 0\n",
    "print(\"\\nValues:\")\n",
    "while i < len(values):\n",
    "    print(values[i])\n",
    "    i += 1"
   ]
  },
  {
   "cell_type": "code",
   "execution_count": 49,
   "id": "fc6858e0-bac9-43e8-9761-a13f58041243",
   "metadata": {},
   "outputs": [
    {
     "name": "stdout",
     "output_type": "stream",
     "text": [
      "\n",
      "Items (key-value pairs):\n",
      "('Name', 'Calynn')\n",
      "('Age', 23)\n",
      "('Country', 'INDIA')\n",
      "('Occupation', 'Student')\n",
      "('Hobbies', ['Reading', 'Eating', 'Sleeping'])\n"
     ]
    }
   ],
   "source": [
    "# iii. Loop over the dictionary to print items (key-value pairs) using a while loop\n",
    "items = list(my_dict.items())  # Convert items (key-value pairs) to a list to loop through them\n",
    "i = 0\n",
    "print(\"\\nItems (key-value pairs):\")\n",
    "while i < len(items):\n",
    "    print(items[i])\n",
    "    i += 1"
   ]
  },
  {
   "cell_type": "code",
   "execution_count": null,
   "id": "e988f465-35e1-49ea-8d08-3549d5de0782",
   "metadata": {},
   "outputs": [],
   "source": []
  }
 ],
 "metadata": {
  "kernelspec": {
   "display_name": "Python [conda env:anaconda3]",
   "language": "python",
   "name": "conda-env-anaconda3-py"
  },
  "language_info": {
   "codemirror_mode": {
    "name": "ipython",
    "version": 3
   },
   "file_extension": ".py",
   "mimetype": "text/x-python",
   "name": "python",
   "nbconvert_exporter": "python",
   "pygments_lexer": "ipython3",
   "version": "3.12.7"
  }
 },
 "nbformat": 4,
 "nbformat_minor": 5
}
