{
 "cells": [
  {
   "cell_type": "code",
   "execution_count": 7,
   "id": "403f98fd-1c91-466a-8efc-8e61a8de5f35",
   "metadata": {},
   "outputs": [
    {
     "name": "stdout",
     "output_type": "stream",
     "text": [
      "Defaulting to user installation because normal site-packages is not writeable\n",
      "Collecting pulp\n",
      "  Downloading pulp-3.1.1-py3-none-any.whl.metadata (1.3 kB)\n",
      "Downloading pulp-3.1.1-py3-none-any.whl (16.4 MB)\n",
      "   ---------------------------------------- 0.0/16.4 MB ? eta -:--:--\n",
      "   -- ------------------------------------- 1.0/16.4 MB 8.4 MB/s eta 0:00:02\n",
      "   ------- -------------------------------- 2.9/16.4 MB 8.0 MB/s eta 0:00:02\n",
      "   ------------ --------------------------- 5.0/16.4 MB 8.6 MB/s eta 0:00:02\n",
      "   ---------------- ----------------------- 6.6/16.4 MB 8.8 MB/s eta 0:00:02\n",
      "   ------------------- -------------------- 7.9/16.4 MB 8.1 MB/s eta 0:00:02\n",
      "   --------------------- ------------------ 8.7/16.4 MB 7.4 MB/s eta 0:00:02\n",
      "   ----------------------- ---------------- 9.4/16.4 MB 6.8 MB/s eta 0:00:02\n",
      "   ------------------------ --------------- 10.0/16.4 MB 6.5 MB/s eta 0:00:01\n",
      "   -------------------------- ------------- 10.7/16.4 MB 5.9 MB/s eta 0:00:01\n",
      "   --------------------------- ------------ 11.3/16.4 MB 5.6 MB/s eta 0:00:01\n",
      "   ---------------------------- ----------- 11.5/16.4 MB 5.3 MB/s eta 0:00:01\n",
      "   ----------------------------- ---------- 12.1/16.4 MB 4.9 MB/s eta 0:00:01\n",
      "   ------------------------------ --------- 12.3/16.4 MB 4.8 MB/s eta 0:00:01\n",
      "   ------------------------------- -------- 12.8/16.4 MB 4.5 MB/s eta 0:00:01\n",
      "   -------------------------------- ------- 13.1/16.4 MB 4.4 MB/s eta 0:00:01\n",
      "   --------------------------------- ------ 13.6/16.4 MB 4.2 MB/s eta 0:00:01\n",
      "   ---------------------------------- ----- 14.2/16.4 MB 4.0 MB/s eta 0:00:01\n",
      "   ----------------------------------- ---- 14.4/16.4 MB 4.0 MB/s eta 0:00:01\n",
      "   ------------------------------------ --- 14.9/16.4 MB 3.9 MB/s eta 0:00:01\n",
      "   ------------------------------------- -- 15.5/16.4 MB 3.8 MB/s eta 0:00:01\n",
      "   ---------------------------------------  16.0/16.4 MB 3.7 MB/s eta 0:00:01\n",
      "   ---------------------------------------- 16.4/16.4 MB 3.6 MB/s eta 0:00:00\n",
      "Installing collected packages: pulp\n",
      "Successfully installed pulp-3.1.1\n"
     ]
    },
    {
     "name": "stderr",
     "output_type": "stream",
     "text": [
      "  WARNING: The script pulptest.exe is installed in 'C:\\Users\\C-DAC\\AppData\\Roaming\\Python\\Python312\\Scripts' which is not on PATH.\n",
      "  Consider adding this directory to PATH or, if you prefer to suppress this warning, use --no-warn-script-location.\n"
     ]
    }
   ],
   "source": [
    "# Problem:\n",
    "\n",
    "# You have a limited marketing budget and want to allocate it across 3 channels (Email, Social Media, TV) to maximize total conversions.\n",
    "!pip install pulp"
   ]
  },
  {
   "cell_type": "code",
   "execution_count": 9,
   "id": "f9961df7-af8d-4e02-bd99-f6273d0ed959",
   "metadata": {},
   "outputs": [],
   "source": [
    "from pulp import LpMaximize, LpProblem, LpVariable, value"
   ]
  },
  {
   "cell_type": "code",
   "execution_count": 11,
   "id": "a6251b44-fcdd-4fdb-967b-ae43cc940491",
   "metadata": {},
   "outputs": [],
   "source": [
    "# Define the optimization problem\n",
    "model = LpProblem(\"Marketing_Budget_Allocation\", LpMaximize)"
   ]
  },
  {
   "cell_type": "code",
   "execution_count": 13,
   "id": "94ac8dc8-90dc-433f-8417-9fce7bc5163b",
   "metadata": {},
   "outputs": [],
   "source": [
    "# Decision variables: Budget to allocate to each channel (in $1,000s)\n",
    "email = LpVariable(\"Email\", lowBound=0)\n",
    "social = LpVariable(\"Social_Media\", lowBound=0)\n",
    "tv = LpVariable(\"TV\", lowBound=0)"
   ]
  },
  {
   "cell_type": "code",
   "execution_count": null,
   "id": "d6400483-f779-4372-9414-a255bceab9c9",
   "metadata": {},
   "outputs": [],
   "source": []
  }
 ],
 "metadata": {
  "kernelspec": {
   "display_name": "Python [conda env:anaconda3]",
   "language": "python",
   "name": "conda-env-anaconda3-py"
  },
  "language_info": {
   "codemirror_mode": {
    "name": "ipython",
    "version": 3
   },
   "file_extension": ".py",
   "mimetype": "text/x-python",
   "name": "python",
   "nbconvert_exporter": "python",
   "pygments_lexer": "ipython3",
   "version": "3.12.7"
  }
 },
 "nbformat": 4,
 "nbformat_minor": 5
}
