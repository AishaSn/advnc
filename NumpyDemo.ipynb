{
 "cells": [
  {
   "cell_type": "code",
   "execution_count": 1,
   "id": "7356495e-b679-422b-a17c-7b4680753f6a",
   "metadata": {},
   "outputs": [],
   "source": [
    "import numpy as np"
   ]
  },
  {
   "cell_type": "code",
   "execution_count": 2,
   "id": "65ef1efa-e5f7-4623-8c6e-3c7183e2839e",
   "metadata": {},
   "outputs": [],
   "source": [
    "#CREATING A LIST"
   ]
  },
  {
   "cell_type": "code",
   "execution_count": 3,
   "id": "200bb05f-2709-4137-851a-7b32dcd93c37",
   "metadata": {},
   "outputs": [],
   "source": [
    "list1 = [2, 4, 6, 8]"
   ]
  },
  {
   "cell_type": "code",
   "execution_count": 4,
   "id": "a3456a99-ac4c-418b-ba23-e16747fc5e38",
   "metadata": {},
   "outputs": [],
   "source": [
    "#PUTTING THE LIST IN AN ARRAY NUMPY"
   ]
  },
  {
   "cell_type": "code",
   "execution_count": 5,
   "id": "d022b7cd-221b-4ce2-bb8a-2a4de0648ac7",
   "metadata": {},
   "outputs": [],
   "source": [
    "array1 = np.array(list1)"
   ]
  },
  {
   "cell_type": "code",
   "execution_count": 6,
   "id": "f8e3c812-b350-4d3b-a8bf-6c98f5fe9215",
   "metadata": {},
   "outputs": [],
   "source": [
    "#PRINTING ARRAY1"
   ]
  },
  {
   "cell_type": "code",
   "execution_count": 7,
   "id": "a46c3c19-9979-46d5-9585-36a34e74af5f",
   "metadata": {},
   "outputs": [
    {
     "data": {
      "text/plain": [
       "array([2, 4, 6, 8])"
      ]
     },
     "execution_count": 7,
     "metadata": {},
     "output_type": "execute_result"
    }
   ],
   "source": [
    "array1"
   ]
  },
  {
   "cell_type": "code",
   "execution_count": 8,
   "id": "6c5560b7-6609-4b3e-9bcf-22c6ca93872d",
   "metadata": {},
   "outputs": [],
   "source": [
    "#ARRAY1 HAS VALUES 2,4,6,8 BUT USING (np.zeros(4)) WE WILL INITIALISE ALL THE VALUE TO 0."
   ]
  },
  {
   "cell_type": "code",
   "execution_count": 9,
   "id": "2011efdc-2e83-48ac-89cc-08d3cae5e3b4",
   "metadata": {},
   "outputs": [],
   "source": [
    "array1 = np.zeros(4)"
   ]
  },
  {
   "cell_type": "code",
   "execution_count": 10,
   "id": "326251bb-f31a-4813-8d4b-f0dcdcfc68ba",
   "metadata": {},
   "outputs": [],
   "source": [
    "#PRINTING ARRAY1 WHICH HAS VALUES ALL 0."
   ]
  },
  {
   "cell_type": "code",
   "execution_count": 11,
   "id": "c00b2513-792a-432a-808d-3c7a2ad69f18",
   "metadata": {},
   "outputs": [
    {
     "data": {
      "text/plain": [
       "array([0., 0., 0., 0.])"
      ]
     },
     "execution_count": 11,
     "metadata": {},
     "output_type": "execute_result"
    }
   ],
   "source": [
    "array1"
   ]
  },
  {
   "cell_type": "code",
   "execution_count": 12,
   "id": "d0f44a0f-d938-4dd8-9092-984c50dd395b",
   "metadata": {},
   "outputs": [],
   "source": [
    "#CREATE AN ARRAY USING np.arange()"
   ]
  },
  {
   "cell_type": "code",
   "execution_count": 13,
   "id": "bc698ceb-c7b2-43b4-89f2-3bb2bff1bda4",
   "metadata": {},
   "outputs": [],
   "source": [
    "#CREATE AN ARRAY WITH VALUES FROM 0 TO 4"
   ]
  },
  {
   "cell_type": "code",
   "execution_count": 14,
   "id": "0a9c3ec7-8145-4ae8-96ec-d2907651db02",
   "metadata": {},
   "outputs": [],
   "source": [
    "array2=np.arange(5)"
   ]
  },
  {
   "cell_type": "code",
   "execution_count": 15,
   "id": "1601383a-d947-41f5-9885-51cd244e99de",
   "metadata": {},
   "outputs": [
    {
     "data": {
      "text/plain": [
       "array([0, 1, 2, 3, 4])"
      ]
     },
     "execution_count": 15,
     "metadata": {},
     "output_type": "execute_result"
    }
   ],
   "source": [
    "array2"
   ]
  },
  {
   "cell_type": "code",
   "execution_count": 16,
   "id": "8e135a63-b206-4260-9451-f942c31757ea",
   "metadata": {},
   "outputs": [],
   "source": [
    "# FROM START=1 TO END=8, WITH GAP=2"
   ]
  },
  {
   "cell_type": "code",
   "execution_count": 17,
   "id": "c9e7237e-3275-4315-8204-b2b40d323a38",
   "metadata": {},
   "outputs": [],
   "source": [
    "array3=np.arange(1,9,2)"
   ]
  },
  {
   "cell_type": "code",
   "execution_count": 18,
   "id": "2cda4322-0826-4278-9387-e0116ce57dc4",
   "metadata": {},
   "outputs": [
    {
     "data": {
      "text/plain": [
       "array([1, 3, 5, 7])"
      ]
     },
     "execution_count": 18,
     "metadata": {},
     "output_type": "execute_result"
    }
   ],
   "source": [
    "array3"
   ]
  },
  {
   "cell_type": "code",
   "execution_count": 19,
   "id": "162db6fd-5031-45cd-b130-beb007dc5cf1",
   "metadata": {},
   "outputs": [],
   "source": [
    "#GENETRATE THE RANDOMN VALUES"
   ]
  },
  {
   "cell_type": "code",
   "execution_count": 20,
   "id": "29f0a6fd-495b-4c0a-8cbc-5f3566437cf3",
   "metadata": {},
   "outputs": [],
   "source": [
    "array4=np.random.randint(45,size=(3,2))"
   ]
  },
  {
   "cell_type": "code",
   "execution_count": 21,
   "id": "809ea24d-07c4-4583-8689-f9797e48423d",
   "metadata": {},
   "outputs": [
    {
     "data": {
      "text/plain": [
       "array([[ 8, 30],\n",
       "       [ 7,  5],\n",
       "       [17, 29]])"
      ]
     },
     "execution_count": 21,
     "metadata": {},
     "output_type": "execute_result"
    }
   ],
   "source": [
    "array4"
   ]
  },
  {
   "cell_type": "code",
   "execution_count": 22,
   "id": "5af90b73-017f-479f-852a-a2c061c7462f",
   "metadata": {},
   "outputs": [],
   "source": [
    "#CREATING 2D ARRAY"
   ]
  },
  {
   "cell_type": "code",
   "execution_count": 23,
   "id": "642f622e-1347-45b2-83f9-7e58f1c3c783",
   "metadata": {},
   "outputs": [],
   "source": [
    "array5=np.array([[1,2,3,4],[5,6,7,8]])"
   ]
  },
  {
   "cell_type": "code",
   "execution_count": 24,
   "id": "fb893c26-3116-46fe-984a-8a74e05ee8f3",
   "metadata": {},
   "outputs": [
    {
     "data": {
      "text/plain": [
       "array([[1, 2, 3, 4],\n",
       "       [5, 6, 7, 8]])"
      ]
     },
     "execution_count": 24,
     "metadata": {},
     "output_type": "execute_result"
    }
   ],
   "source": [
    "array5"
   ]
  },
  {
   "cell_type": "code",
   "execution_count": 25,
   "id": "e7e3d438-6a23-42dc-8f84-e62465951e42",
   "metadata": {},
   "outputs": [],
   "source": [
    "#CREATING 2D ARRAY WITH 2 ROWS AND 3 COLUMNS FILLED WITH ZEROS"
   ]
  },
  {
   "cell_type": "code",
   "execution_count": 26,
   "id": "ba991bbb-8305-4c46-ba58-e32c54db1880",
   "metadata": {},
   "outputs": [],
   "source": [
    "array6=np.zeros((2,3))"
   ]
  },
  {
   "cell_type": "code",
   "execution_count": 27,
   "id": "ac57016b-d598-4fad-ab17-cae79858e50a",
   "metadata": {},
   "outputs": [
    {
     "data": {
      "text/plain": [
       "array([[0., 0., 0.],\n",
       "       [0., 0., 0.]])"
      ]
     },
     "execution_count": 27,
     "metadata": {},
     "output_type": "execute_result"
    }
   ],
   "source": [
    "array6"
   ]
  },
  {
   "cell_type": "code",
   "execution_count": 28,
   "id": "ad8c660c-931f-417a-a5cb-237ba7b2638e",
   "metadata": {},
   "outputs": [],
   "source": [
    "#CREATING 3D ARRAY WITH 2*3*4 FILLED WITH ZEROS"
   ]
  },
  {
   "cell_type": "code",
   "execution_count": 29,
   "id": "90ec2474-d9c0-4af3-9eeb-aae96f86fada",
   "metadata": {},
   "outputs": [],
   "source": [
    "array7=np.zeros((2,3,4))"
   ]
  },
  {
   "cell_type": "code",
   "execution_count": 30,
   "id": "7d30d116-daca-4962-9457-646239a8e529",
   "metadata": {},
   "outputs": [
    {
     "data": {
      "text/plain": [
       "array([[[0., 0., 0., 0.],\n",
       "        [0., 0., 0., 0.],\n",
       "        [0., 0., 0., 0.]],\n",
       "\n",
       "       [[0., 0., 0., 0.],\n",
       "        [0., 0., 0., 0.],\n",
       "        [0., 0., 0., 0.]]])"
      ]
     },
     "execution_count": 30,
     "metadata": {},
     "output_type": "execute_result"
    }
   ],
   "source": [
    "array7"
   ]
  },
  {
   "cell_type": "code",
   "execution_count": 31,
   "id": "c82a4b8a-b8df-4f21-bbee-ae5c75506342",
   "metadata": {},
   "outputs": [],
   "source": [
    " # Create a 2-D array with elements initialized to 5"
   ]
  },
  {
   "cell_type": "code",
   "execution_count": 32,
   "id": "580459b2-b8fd-45d5-a650-e9c1dc7fafde",
   "metadata": {},
   "outputs": [],
   "source": [
    "numpy_array= np.full((2, 2), 5)"
   ]
  },
  {
   "cell_type": "code",
   "execution_count": 33,
   "id": "e4d978ad-4eb8-4d66-a1f0-b96732ca2e46",
   "metadata": {},
   "outputs": [
    {
     "data": {
      "text/plain": [
       "array([[5, 5],\n",
       "       [5, 5]])"
      ]
     },
     "execution_count": 33,
     "metadata": {},
     "output_type": "execute_result"
    }
   ],
   "source": [
    "numpy_array"
   ]
  },
  {
   "cell_type": "code",
   "execution_count": 34,
   "id": "c0d9162c-a7f0-4c77-ab9b-a06503062973",
   "metadata": {},
   "outputs": [],
   "source": [
    " # create a 2D array of 2 rows and 2 columns of random numbers"
   ]
  },
  {
   "cell_type": "code",
   "execution_count": 35,
   "id": "606c409c-b0eb-4b22-a804-cf85d29bb3e2",
   "metadata": {},
   "outputs": [],
   "source": [
    "array8=np.random.rand(2,2)"
   ]
  },
  {
   "cell_type": "code",
   "execution_count": 36,
   "id": "f07f271b-5771-41ca-9d04-786c7808ab0d",
   "metadata": {},
   "outputs": [
    {
     "data": {
      "text/plain": [
       "array([[0.64893197, 0.42317662],\n",
       "       [0.08957269, 0.34766203]])"
      ]
     },
     "execution_count": 36,
     "metadata": {},
     "output_type": "execute_result"
    }
   ],
   "source": [
    "array8"
   ]
  },
  {
   "cell_type": "code",
   "execution_count": 37,
   "id": "fbbf9f80-f902-4d6e-9ca4-89b0fd247d16",
   "metadata": {},
   "outputs": [],
   "source": [
    "array9=np.random.rand(2,2,2)"
   ]
  },
  {
   "cell_type": "code",
   "execution_count": 38,
   "id": "84b47e9e-8196-430d-83eb-2fbe1214e653",
   "metadata": {},
   "outputs": [
    {
     "data": {
      "text/plain": [
       "array([[[0.99581384, 0.47262033],\n",
       "        [0.04215839, 0.6681321 ]],\n",
       "\n",
       "       [[0.0212945 , 0.24597023],\n",
       "        [0.17029053, 0.61639164]]])"
      ]
     },
     "execution_count": 38,
     "metadata": {},
     "output_type": "execute_result"
    }
   ],
   "source": [
    "array9"
   ]
  },
  {
   "cell_type": "code",
   "execution_count": 39,
   "id": "7c4c03c1-43e3-4901-b3f4-63d295553a99",
   "metadata": {},
   "outputs": [],
   "source": [
    " # create an empty 2D array with 2 rows and 2 columns"
   ]
  },
  {
   "cell_type": "code",
   "execution_count": 40,
   "id": "f217c2be-1ed8-464d-8c9b-ede418a09c37",
   "metadata": {},
   "outputs": [],
   "source": [
    "array10=np.empty((2,2))"
   ]
  },
  {
   "cell_type": "code",
   "execution_count": 41,
   "id": "850c7746-c49f-417d-9abd-194d732492ec",
   "metadata": {},
   "outputs": [
    {
     "data": {
      "text/plain": [
       "array([[0.64893197, 0.42317662],\n",
       "       [0.08957269, 0.34766203]])"
      ]
     },
     "execution_count": 41,
     "metadata": {},
     "output_type": "execute_result"
    }
   ],
   "source": [
    "array10"
   ]
  },
  {
   "cell_type": "code",
   "execution_count": 42,
   "id": "9aa71882-59e7-47af-b0fa-cd80a5a9b7b0",
   "metadata": {},
   "outputs": [],
   "source": [
    " # create an empty 3D array of shape (2, 2, 2) "
   ]
  },
  {
   "cell_type": "code",
   "execution_count": 43,
   "id": "b20eda93-f4a5-4d31-9cdb-7d6db5d7daf1",
   "metadata": {},
   "outputs": [],
   "source": [
    "array11=np.empty((2,2,2))"
   ]
  },
  {
   "cell_type": "code",
   "execution_count": 44,
   "id": "c42f57cd-fc7a-40c3-a4ae-d23900d49c86",
   "metadata": {},
   "outputs": [
    {
     "data": {
      "text/plain": [
       "array([[[0.99581384, 0.47262033],\n",
       "        [0.04215839, 0.6681321 ]],\n",
       "\n",
       "       [[0.0212945 , 0.24597023],\n",
       "        [0.17029053, 0.61639164]]])"
      ]
     },
     "execution_count": 44,
     "metadata": {},
     "output_type": "execute_result"
    }
   ],
   "source": [
    "array11"
   ]
  },
  {
   "cell_type": "code",
   "execution_count": 45,
   "id": "69a2938a-0630-4661-81ce-91239cd7c1d4",
   "metadata": {},
   "outputs": [],
   "source": [
    "# ndim returns number of dimension of the arraY"
   ]
  },
  {
   "cell_type": "code",
   "execution_count": 46,
   "id": "5c8db8ff-46f8-4c0c-8a0c-9c5c42b1c5f2",
   "metadata": {},
   "outputs": [
    {
     "data": {
      "text/plain": [
       "3"
      ]
     },
     "execution_count": 46,
     "metadata": {},
     "output_type": "execute_result"
    }
   ],
   "source": [
    "array11.ndim"
   ]
  },
  {
   "cell_type": "code",
   "execution_count": 47,
   "id": "db784276-f9e7-446d-a268-6f831f761b8e",
   "metadata": {},
   "outputs": [],
   "source": [
    "# size returns number of elements in the array"
   ]
  },
  {
   "cell_type": "code",
   "execution_count": 48,
   "id": "30c8464a-fa79-46cf-81d6-4b1868064347",
   "metadata": {},
   "outputs": [
    {
     "data": {
      "text/plain": [
       "8"
      ]
     },
     "execution_count": 48,
     "metadata": {},
     "output_type": "execute_result"
    }
   ],
   "source": [
    "array11.size"
   ]
  },
  {
   "cell_type": "code",
   "execution_count": 49,
   "id": "d70b6d0a-b82f-405d-a398-d38d71682777",
   "metadata": {},
   "outputs": [],
   "source": [
    "#shape returns the size of the array in each dimension."
   ]
  },
  {
   "cell_type": "code",
   "execution_count": 50,
   "id": "81ed7e28-7913-4393-a434-a2d82d914966",
   "metadata": {},
   "outputs": [
    {
     "data": {
      "text/plain": [
       "(2, 2, 2)"
      ]
     },
     "execution_count": 50,
     "metadata": {},
     "output_type": "execute_result"
    }
   ],
   "source": [
    "array11.shape"
   ]
  },
  {
   "cell_type": "code",
   "execution_count": 51,
   "id": "6d183e79-5dec-4644-9a0e-56add15c34ce",
   "metadata": {},
   "outputs": [],
   "source": [
    "#itemsize returns the size (in bytes) of each elements in the array"
   ]
  },
  {
   "cell_type": "code",
   "execution_count": 52,
   "id": "acd0a1ed-c8a8-4045-b46d-3f0cd5082408",
   "metadata": {},
   "outputs": [
    {
     "data": {
      "text/plain": [
       "8"
      ]
     },
     "execution_count": 52,
     "metadata": {},
     "output_type": "execute_result"
    }
   ],
   "source": [
    "array11.itemsize"
   ]
  },
  {
   "cell_type": "code",
   "execution_count": 53,
   "id": "086de16f-c8d6-420d-a4f3-4059f37e330b",
   "metadata": {},
   "outputs": [],
   "source": [
    "# data returns the buffer containing actual elements of the array in memory"
   ]
  },
  {
   "cell_type": "code",
   "execution_count": 54,
   "id": "f1168301-ed5e-4e41-80f3-c6331683a2da",
   "metadata": {},
   "outputs": [
    {
     "data": {
      "text/plain": [
       "<memory at 0x00000214E5C65210>"
      ]
     },
     "execution_count": 54,
     "metadata": {},
     "output_type": "execute_result"
    }
   ],
   "source": [
    "array11.data"
   ]
  },
  {
   "cell_type": "code",
   "execution_count": 55,
   "id": "06e77efa-94e3-491a-9149-90cd97d35a25",
   "metadata": {},
   "outputs": [],
   "source": [
    " # create an array of integers "
   ]
  },
  {
   "cell_type": "code",
   "execution_count": 56,
   "id": "a4c557e4-c015-48a9-8051-f6b1df2cbd5e",
   "metadata": {},
   "outputs": [],
   "source": [
    "arr1=np.array([2,4,6])"
   ]
  },
  {
   "cell_type": "code",
   "execution_count": 57,
   "id": "f605e4fc-24e0-4061-9532-961a3a148e6c",
   "metadata": {},
   "outputs": [
    {
     "data": {
      "text/plain": [
       "dtype('int32')"
      ]
     },
     "execution_count": 57,
     "metadata": {},
     "output_type": "execute_result"
    }
   ],
   "source": [
    "arr1.dtype"
   ]
  },
  {
   "cell_type": "code",
   "execution_count": 58,
   "id": "50843b61-a4a3-41f4-92fc-3f6886398207",
   "metadata": {},
   "outputs": [],
   "source": [
    " # convert data type of arr1 to float"
   ]
  },
  {
   "cell_type": "code",
   "execution_count": 59,
   "id": "2164fbf3-6fc6-4447-ab66-41eafa53daac",
   "metadata": {},
   "outputs": [],
   "source": [
    "arr2=arr1.astype('float')"
   ]
  },
  {
   "cell_type": "code",
   "execution_count": 60,
   "id": "93e2f816-4ed3-4345-b148-aac3d6ce2ac2",
   "metadata": {},
   "outputs": [
    {
     "data": {
      "text/plain": [
       "dtype('float64')"
      ]
     },
     "execution_count": 60,
     "metadata": {},
     "output_type": "execute_result"
    }
   ],
   "source": [
    "arr2.dtype"
   ]
  },
  {
   "cell_type": "code",
   "execution_count": 61,
   "id": "574a9fef-3c79-4006-a3c5-5447cd32208d",
   "metadata": {},
   "outputs": [],
   "source": [
    "arr1=arr1.astype('float')"
   ]
  },
  {
   "cell_type": "code",
   "execution_count": 62,
   "id": "493a7ca3-449a-4dac-9331-cb02dce5f583",
   "metadata": {},
   "outputs": [
    {
     "data": {
      "text/plain": [
       "dtype('float64')"
      ]
     },
     "execution_count": 62,
     "metadata": {},
     "output_type": "execute_result"
    }
   ],
   "source": [
    "arr1.dtype"
   ]
  },
  {
   "cell_type": "code",
   "execution_count": 63,
   "id": "3ae48016-5d5e-4ad6-bc6d-fab7a8abcbde",
   "metadata": {},
   "outputs": [],
   "source": [
    "#NUMPY INPUT OUTPUT"
   ]
  },
  {
   "cell_type": "code",
   "execution_count": 64,
   "id": "d9cc125a-595d-45cb-831b-d97dc1b15814",
   "metadata": {},
   "outputs": [],
   "source": [
    "# save() = saves an array to a binary file in the NumPy .npy format."
   ]
  },
  {
   "cell_type": "code",
   "execution_count": 65,
   "id": "85ab44bc-33ba-492e-b4b6-689449914e56",
   "metadata": {},
   "outputs": [],
   "source": [
    "arr3 = np.array([[1, 3, 5], [7, 9, 11]])"
   ]
  },
  {
   "cell_type": "code",
   "execution_count": 66,
   "id": "4a33d38f-bed2-44c5-9a27-0b6ed4ceb07e",
   "metadata": {},
   "outputs": [
    {
     "data": {
      "text/plain": [
       "array([[ 1,  3,  5],\n",
       "       [ 7,  9, 11]])"
      ]
     },
     "execution_count": 66,
     "metadata": {},
     "output_type": "execute_result"
    }
   ],
   "source": [
    "arr3"
   ]
  },
  {
   "cell_type": "code",
   "execution_count": 67,
   "id": "fd484037-a28d-4743-a068-1e89db46259b",
   "metadata": {},
   "outputs": [],
   "source": [
    "np.save('file1.npy', arr3)"
   ]
  },
  {
   "cell_type": "code",
   "execution_count": 68,
   "id": "27008ac5-6072-47ce-8128-678607e5362e",
   "metadata": {},
   "outputs": [],
   "source": [
    "#load() = loads data from a binary file in the NumPy .npy format"
   ]
  },
  {
   "cell_type": "code",
   "execution_count": 69,
   "id": "74dfe682-13f1-42b6-9925-d729ab61f837",
   "metadata": {},
   "outputs": [],
   "source": [
    " loaded_array= np.load('file1.npy')"
   ]
  },
  {
   "cell_type": "code",
   "execution_count": 70,
   "id": "2317d259-ac26-47e0-9bcf-b7901be20de7",
   "metadata": {},
   "outputs": [
    {
     "data": {
      "text/plain": [
       "array([[ 1,  3,  5],\n",
       "       [ 7,  9, 11]])"
      ]
     },
     "execution_count": 70,
     "metadata": {},
     "output_type": "execute_result"
    }
   ],
   "source": [
    "loaded_array"
   ]
  },
  {
   "cell_type": "code",
   "execution_count": 71,
   "id": "3ee89377-32b2-47a1-bd62-464d1868928e",
   "metadata": {},
   "outputs": [],
   "source": [
    "#savetxt() = saves an array to a text file in a specific format"
   ]
  },
  {
   "cell_type": "code",
   "execution_count": 72,
   "id": "f8b134a3-c2e2-438b-a9c7-29417bad1804",
   "metadata": {},
   "outputs": [],
   "source": [
    " arr4 = np.array([[1, 3, 5], [7, 9, 11]])"
   ]
  },
  {
   "cell_type": "code",
   "execution_count": 73,
   "id": "34503a2d-fdbb-4a0f-bb36-35f293fb09be",
   "metadata": {},
   "outputs": [],
   "source": [
    "np.savetxt('file2.txt', arr4)"
   ]
  },
  {
   "cell_type": "code",
   "execution_count": 74,
   "id": "838125c1-f2dc-4ceb-b58e-5caea18cf97a",
   "metadata": {},
   "outputs": [],
   "source": [
    "#loadtxt() =  loads data from a text file."
   ]
  },
  {
   "cell_type": "code",
   "execution_count": 75,
   "id": "8277c92a-616e-4c34-a0b6-a42e7c3fd930",
   "metadata": {},
   "outputs": [],
   "source": [
    " loaded_array= np.loadtxt('file2.txt')"
   ]
  },
  {
   "cell_type": "code",
   "execution_count": 76,
   "id": "4e7df601-d107-4287-901b-1cd3b2a5ce33",
   "metadata": {},
   "outputs": [
    {
     "data": {
      "text/plain": [
       "array([[ 1.,  3.,  5.],\n",
       "       [ 7.,  9., 11.]])"
      ]
     },
     "execution_count": 76,
     "metadata": {},
     "output_type": "execute_result"
    }
   ],
   "source": [
    "loaded_array"
   ]
  },
  {
   "cell_type": "code",
   "execution_count": 77,
   "id": "079a7eee-1779-47e8-884c-8d9316209f12",
   "metadata": {},
   "outputs": [],
   "source": [
    "#NUMPY BROADCASTING"
   ]
  },
  {
   "cell_type": "code",
   "execution_count": 78,
   "id": "18cd68b3-8ec7-48c5-866c-630a69929716",
   "metadata": {},
   "outputs": [],
   "source": [
    "# AIRTHMETIC OPERATIONS"
   ]
  },
  {
   "cell_type": "code",
   "execution_count": 79,
   "id": "4e46e0f8-aa32-4a68-b823-9811e0fa5331",
   "metadata": {},
   "outputs": [],
   "source": [
    "#ADDITION OF ARRAYS OF DIFFERENT SIZES"
   ]
  },
  {
   "cell_type": "code",
   "execution_count": 80,
   "id": "a5af7c90-edcc-4086-86c7-cf73b2548f66",
   "metadata": {},
   "outputs": [],
   "source": [
    "#ADDITION OF 1D ARRAY WITH 2D ARRAY"
   ]
  },
  {
   "cell_type": "code",
   "execution_count": 81,
   "id": "682a631a-fb5b-4ba6-9cd8-5a09ed0548ab",
   "metadata": {},
   "outputs": [],
   "source": [
    "arr1d= np.array([1,2,3])"
   ]
  },
  {
   "cell_type": "code",
   "execution_count": 82,
   "id": "bb53e93e-2828-4f41-ae9c-d254597f2d02",
   "metadata": {},
   "outputs": [],
   "source": [
    "arr2d=np.array([[1],[2],[3]])"
   ]
  },
  {
   "cell_type": "code",
   "execution_count": 83,
   "id": "4551cb8d-d231-4ffd-9f7f-e713436e478e",
   "metadata": {},
   "outputs": [],
   "source": [
    "sum=arr1d+arr2d"
   ]
  },
  {
   "cell_type": "code",
   "execution_count": 84,
   "id": "26a3c350-b817-4598-a331-ab7b31b089e0",
   "metadata": {},
   "outputs": [
    {
     "data": {
      "text/plain": [
       "array([[2, 3, 4],\n",
       "       [3, 4, 5],\n",
       "       [4, 5, 6]])"
      ]
     },
     "execution_count": 84,
     "metadata": {},
     "output_type": "execute_result"
    }
   ],
   "source": [
    "sum"
   ]
  },
  {
   "cell_type": "code",
   "execution_count": 85,
   "id": "6a333074-c66c-466a-9522-bd2b8c8db7ed",
   "metadata": {},
   "outputs": [],
   "source": [
    "#MATRIX OPERATIONS"
   ]
  },
  {
   "cell_type": "code",
   "execution_count": 86,
   "id": "5a47cdc1-8fdd-4980-b989-1dcad205a983",
   "metadata": {},
   "outputs": [],
   "source": [
    "matrix1 = np.array([[1, 3], [5, 7]])"
   ]
  },
  {
   "cell_type": "code",
   "execution_count": 87,
   "id": "2f4022e0-97cb-495b-b284-08632784923a",
   "metadata": {},
   "outputs": [
    {
     "data": {
      "text/plain": [
       "array([[1, 3],\n",
       "       [5, 7]])"
      ]
     },
     "execution_count": 87,
     "metadata": {},
     "output_type": "execute_result"
    }
   ],
   "source": [
    "matrix1"
   ]
  },
  {
   "cell_type": "code",
   "execution_count": 88,
   "id": "f8d1a945-4512-45da-a1be-ad3f0f2e6909",
   "metadata": {},
   "outputs": [],
   "source": [
    "matrix2 = np.array([[2, 3, 5], [7, 14, 21], [1, 3, 5]])"
   ]
  },
  {
   "cell_type": "code",
   "execution_count": 89,
   "id": "23865d76-6381-408d-9edb-b7f518d517a9",
   "metadata": {},
   "outputs": [
    {
     "data": {
      "text/plain": [
       "array([[ 2,  3,  5],\n",
       "       [ 7, 14, 21],\n",
       "       [ 1,  3,  5]])"
      ]
     },
     "execution_count": 89,
     "metadata": {},
     "output_type": "execute_result"
    }
   ],
   "source": [
    "matrix2"
   ]
  },
  {
   "cell_type": "code",
   "execution_count": 90,
   "id": "9945e29c-3928-403d-83a5-38f93a6f23e3",
   "metadata": {},
   "outputs": [],
   "source": [
    "#Matrix Multiplication"
   ]
  },
  {
   "cell_type": "code",
   "execution_count": 91,
   "id": "b22d7ebb-18c6-410e-b858-d039e0bc4d4e",
   "metadata": {},
   "outputs": [],
   "source": [
    "mat1=np.array([[1,3],[5,7]])"
   ]
  },
  {
   "cell_type": "code",
   "execution_count": 92,
   "id": "43dedd1f-7e06-4dd0-ae74-451de0bce36e",
   "metadata": {},
   "outputs": [],
   "source": [
    "mat2=np.array([[2,6],[4,8]])"
   ]
  },
  {
   "cell_type": "code",
   "execution_count": 93,
   "id": "8cbf0fdb-0bd1-4b68-ab6d-cb5b63fa6430",
   "metadata": {},
   "outputs": [],
   "source": [
    "result=np.dot(mat1, mat2)"
   ]
  },
  {
   "cell_type": "code",
   "execution_count": 94,
   "id": "b11783fc-1e2d-481f-afef-f01febe411c0",
   "metadata": {},
   "outputs": [
    {
     "data": {
      "text/plain": [
       "array([[14, 30],\n",
       "       [38, 86]])"
      ]
     },
     "execution_count": 94,
     "metadata": {},
     "output_type": "execute_result"
    }
   ],
   "source": [
    "result"
   ]
  },
  {
   "cell_type": "code",
   "execution_count": 95,
   "id": "ad78af77-bf2c-4a92-a02d-6ff1b86fc2e1",
   "metadata": {},
   "outputs": [],
   "source": [
    "#TRANSPOSE oF A MATRIX"
   ]
  },
  {
   "cell_type": "code",
   "execution_count": 96,
   "id": "577dc3b0-29eb-4059-b310-bd7b14811e18",
   "metadata": {},
   "outputs": [],
   "source": [
    "result1=np.transpose(mat1)"
   ]
  },
  {
   "cell_type": "code",
   "execution_count": 97,
   "id": "bde67cda-fb4e-487e-9a3e-4039dce64801",
   "metadata": {},
   "outputs": [
    {
     "data": {
      "text/plain": [
       "array([[1, 5],\n",
       "       [3, 7]])"
      ]
     },
     "execution_count": 97,
     "metadata": {},
     "output_type": "execute_result"
    }
   ],
   "source": [
    "result1"
   ]
  },
  {
   "cell_type": "code",
   "execution_count": 98,
   "id": "400aeb6a-acc3-4f56-91dc-32461be3c2a0",
   "metadata": {},
   "outputs": [],
   "source": [
    "#NUMPY VECTORIZATION"
   ]
  },
  {
   "cell_type": "code",
   "execution_count": 99,
   "id": "f7681378-56f7-438c-80c6-7399c8ab46ad",
   "metadata": {},
   "outputs": [],
   "source": [
    "arra1=np.array([1,2,3,4,5])"
   ]
  },
  {
   "cell_type": "code",
   "execution_count": 100,
   "id": "2254f683-2c8e-4bca-a6ef-b705a588d35b",
   "metadata": {},
   "outputs": [],
   "source": [
    "number=10"
   ]
  },
  {
   "cell_type": "code",
   "execution_count": 101,
   "id": "496a50ff-5f07-4215-a2cc-746fd8bcaf99",
   "metadata": {},
   "outputs": [],
   "source": [
    "result2=arra1+number"
   ]
  },
  {
   "cell_type": "code",
   "execution_count": 102,
   "id": "dfb69ee3-404f-43b7-8a06-bd181aba5baf",
   "metadata": {},
   "outputs": [
    {
     "data": {
      "text/plain": [
       "array([11, 12, 13, 14, 15])"
      ]
     },
     "execution_count": 102,
     "metadata": {},
     "output_type": "execute_result"
    }
   ],
   "source": [
    "result2"
   ]
  },
  {
   "cell_type": "code",
   "execution_count": 103,
   "id": "fbbaac36-d75f-4be3-b6a8-36a309ca5dab",
   "metadata": {},
   "outputs": [],
   "source": [
    "#NumpyVectorization to Add Two Arrays Together"
   ]
  },
  {
   "cell_type": "code",
   "execution_count": 104,
   "id": "1d6c15d4-cd7e-4868-bf81-3ae103307b84",
   "metadata": {},
   "outputs": [],
   "source": [
    "array1=np.array([[1,2,3],[4,5,6]])"
   ]
  },
  {
   "cell_type": "code",
   "execution_count": 105,
   "id": "4d5b049e-496a-47fe-a04e-d3a7aad8b849",
   "metadata": {},
   "outputs": [],
   "source": [
    "array2=np.array([[11,22,33],[44,55,66]])"
   ]
  },
  {
   "cell_type": "code",
   "execution_count": 106,
   "id": "09ee82a5-9308-4ce5-8bb3-a40bc1f437d6",
   "metadata": {},
   "outputs": [],
   "source": [
    "array_sum=array1+array2"
   ]
  },
  {
   "cell_type": "code",
   "execution_count": 107,
   "id": "dcfe55cf-6acf-496c-bb0e-ba5ce7625b57",
   "metadata": {},
   "outputs": [
    {
     "data": {
      "text/plain": [
       "array([[12, 24, 36],\n",
       "       [48, 60, 72]])"
      ]
     },
     "execution_count": 107,
     "metadata": {},
     "output_type": "execute_result"
    }
   ],
   "source": [
    "array_sum"
   ]
  },
  {
   "cell_type": "code",
   "execution_count": 108,
   "id": "0f78ea15-8529-4166-a7d5-d5d28a204bcf",
   "metadata": {},
   "outputs": [],
   "source": [
    "#BOOLEAN MASK"
   ]
  },
  {
   "cell_type": "code",
   "execution_count": 109,
   "id": "c73adfe3-e091-4dfb-99e0-172300c8edc0",
   "metadata": {},
   "outputs": [],
   "source": [
    "array1=np.array([12,23,45,21,32,45,6,78])"
   ]
  },
  {
   "cell_type": "code",
   "execution_count": 110,
   "id": "9c379792-6675-4f17-9841-41960ab3c403",
   "metadata": {},
   "outputs": [],
   "source": [
    "boolean_mask=array1>20"
   ]
  },
  {
   "cell_type": "code",
   "execution_count": 111,
   "id": "7ee013c8-77e7-4bc8-a3b6-b028f89bfaf5",
   "metadata": {},
   "outputs": [
    {
     "data": {
      "text/plain": [
       "array([False,  True,  True,  True,  True,  True, False,  True])"
      ]
     },
     "execution_count": 111,
     "metadata": {},
     "output_type": "execute_result"
    }
   ],
   "source": [
    "boolean_mask"
   ]
  },
  {
   "cell_type": "code",
   "execution_count": 112,
   "id": "232c50cf-e665-4dc6-8696-7ddcd29783b3",
   "metadata": {},
   "outputs": [],
   "source": [
    "array1 = np.array([1, 2, 3, 4, 5, 6, 7, 8, 9, 10])"
   ]
  },
  {
   "cell_type": "code",
   "execution_count": 113,
   "id": "c1462636-5bb9-455e-aa82-2cf4649ba5c7",
   "metadata": {},
   "outputs": [],
   "source": [
    "boolean_mask= array1 % 2 != 0"
   ]
  },
  {
   "cell_type": "code",
   "execution_count": 114,
   "id": "77cd8ace-ff16-404f-b66b-2814b224ae72",
   "metadata": {},
   "outputs": [
    {
     "data": {
      "text/plain": [
       "array([ True, False,  True, False,  True, False,  True, False,  True,\n",
       "       False])"
      ]
     },
     "execution_count": 114,
     "metadata": {},
     "output_type": "execute_result"
    }
   ],
   "source": [
    "boolean_mask"
   ]
  },
  {
   "cell_type": "code",
   "execution_count": 115,
   "id": "673e6687-797e-4c61-a8b3-d58811175c53",
   "metadata": {},
   "outputs": [],
   "source": [
    " result = array1[boolean_mask]"
   ]
  },
  {
   "cell_type": "code",
   "execution_count": 116,
   "id": "60f875b4-e1e5-499b-81ae-9203a38bd196",
   "metadata": {},
   "outputs": [
    {
     "data": {
      "text/plain": [
       "array([1, 3, 5, 7, 9])"
      ]
     },
     "execution_count": 116,
     "metadata": {},
     "output_type": "execute_result"
    }
   ],
   "source": [
    "result"
   ]
  },
  {
   "cell_type": "code",
   "execution_count": 117,
   "id": "8801ad30-ecfb-4c0a-819e-3de51df0fa15",
   "metadata": {},
   "outputs": [],
   "source": [
    " array1 = np.array([1, 2, 4, 9, 11, 16, 18, 22, 26, 31, 33, 47, 51, 52])"
   ]
  },
  {
   "cell_type": "code",
   "execution_count": 118,
   "id": "77ea86e5-a23b-4423-804a-31a25346d0c8",
   "metadata": {},
   "outputs": [],
   "source": [
    "boolean_mask= (array1 < 10) | (array1 > 40)"
   ]
  }
 ],
 "metadata": {
  "kernelspec": {
   "display_name": "Python [conda env:anaconda3]",
   "language": "python",
   "name": "conda-env-anaconda3-py"
  },
  "language_info": {
   "codemirror_mode": {
    "name": "ipython",
    "version": 3
   },
   "file_extension": ".py",
   "mimetype": "text/x-python",
   "name": "python",
   "nbconvert_exporter": "python",
   "pygments_lexer": "ipython3",
   "version": "3.12.7"
  }
 },
 "nbformat": 4,
 "nbformat_minor": 5
}
