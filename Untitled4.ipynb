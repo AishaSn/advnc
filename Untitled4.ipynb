{
 "cells": [
  {
   "cell_type": "code",
   "execution_count": 1,
   "id": "31c3bd8c-f152-4a55-a5f9-d3ac90fdeeee",
   "metadata": {},
   "outputs": [
    {
     "name": "stdin",
     "output_type": "stream",
     "text": [
      "Enter integer #1:  12\n",
      "Enter integer #2:  33\n",
      "Enter integer #3:  45\n",
      "Enter integer #4:  6\n",
      "Enter integer #5:  44\n",
      "Enter integer #6:  7\n",
      "Enter integer #7:  223\n",
      "Enter integer #8:  4\n",
      "Enter integer #9:  22\n",
      "Enter integer #10:  4\n"
     ]
    },
    {
     "data": {
      "text/plain": [
       "[12, 33, 45, 6, 44, 7, 223, 4, 22, 4]"
      ]
     },
     "execution_count": 1,
     "metadata": {},
     "output_type": "execute_result"
    }
   ],
   "source": [
    "# Initialize an empty list to store the integers\n",
    "numbers = []\n",
    "\n",
    "# Loop to take 10 integer inputs from the user\n",
    "for i in range(10):\n",
    "    num = int(input(f\"Enter integer #{i + 1}: \"))\n",
    "    numbers.append(num)\n",
    "\n",
    "# Display the list of numbers\n",
    "numbers\n"
   ]
  },
  {
   "cell_type": "code",
   "execution_count": null,
   "id": "5240c29c-ebf8-4929-9512-319466af87aa",
   "metadata": {},
   "outputs": [],
   "source": []
  }
 ],
 "metadata": {
  "kernelspec": {
   "display_name": "Python [conda env:anaconda3]",
   "language": "python",
   "name": "conda-env-anaconda3-py"
  },
  "language_info": {
   "codemirror_mode": {
    "name": "ipython",
    "version": 3
   },
   "file_extension": ".py",
   "mimetype": "text/x-python",
   "name": "python",
   "nbconvert_exporter": "python",
   "pygments_lexer": "ipython3",
   "version": "3.12.7"
  }
 },
 "nbformat": 4,
 "nbformat_minor": 5
}
